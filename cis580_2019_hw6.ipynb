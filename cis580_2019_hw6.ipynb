{
  "nbformat": 4,
  "nbformat_minor": 0,
  "metadata": {
    "colab": {
      "name": "cis580_2019_hw6.ipynb",
      "version": "0.3.2",
      "provenance": [],
      "collapsed_sections": []
    },
    "kernelspec": {
      "name": "python3",
      "display_name": "Python 3"
    },
    "accelerator": "GPU"
  },
  "cells": [
    {
      "cell_type": "markdown",
      "metadata": {
        "id": "0sxSCg556Qer",
        "colab_type": "text"
      },
      "source": [
      ]
    },
    {
      "cell_type": "code",
      "metadata": {
        "id": "A_B9zugK6Ln-",
        "colab_type": "code",
        "outputId": "9c3104e4-ebed-4b5b-ff28-e103f1e2b124",
        "colab": {
          "base_uri": "https://localhost:8080/",
          "height": 54
        }
      },
      "source": [
        "# bootstrap environment into place\n",
        "from google.colab import auth\n",
        "auth.authenticate_user()\n",
        "\n",
        "from googleapiclient.discovery import build\n",
        "drive_service = build('drive', 'v3')\n",
        "\n",
        "import io\n",
        "import os\n",
        "from googleapiclient.http import MediaIoBaseDownload\n",
        "\n",
        "def download_file(fn, file_id):\n",
        "    request = drive_service.files().get_media(fileId=file_id)\n",
        "    downloaded = io.BytesIO()\n",
        "    downloader = MediaIoBaseDownload(downloaded, request)\n",
        "    done = False\n",
        "    while done is False:\n",
        "        # _ is a placeholder for a progress object that we ignore.\n",
        "        # (Our file is small, so we skip reporting progress.)\n",
        "        _, done = downloader.next_chunk()\n",
        "    \n",
        "    downloaded.seek(0)\n",
        "\n",
        "    folder = fn.split('/')\n",
        "    if len(folder) > 1:\n",
        "        os.makedirs(folder[0], exist_ok=True)\n",
        "\n",
        "    with open(fn, 'wb') as f:\n",
        "        f.write(downloaded.read())\n",
        "\n",
        "id_to_fn = {\n",
        "        '1PIhom4rR_a_vm-zCt_1rYKbz8sd43Gel': \"data/images.npz\",\n",
        "        '1IOxsTUF-MgmDRp3-0jPMJ-qo8yLZFCez': \"data/train_data.npz\",\n",
        "        '1ZPRZoiuQVwWm88dWB4kWTBTtSQKBaDxs': \"data/valid_data.npz\",\n",
        "        '1rJgn9NHdnwToyIERWbS8g_gZu19wAkkd': \"data/kpt.npy\",\n",
        "        '1noGbThisv1HOi87dG66AfgQzpIv0o1y6': \"data/misc_data.npz\",\n",
        "        '1Jp94eNQyXlTBYhqFFksbwRRl9VOGLAYT': \"utils/__init__.py\",\n",
        "        '1UCCx78ZFL-BxsIScl0YkaLSRjw6Umliu': \"utils/pose_utils.py\",\n",
        "        '1lV3oSGB2ygBj0vF2zaj_FKVaExz4-loi': \"utils/plotting.py\",\n",
        "        '1td00aFXojVptGMz1XRTuVWSdpAHYi4lt': \"utils/train_options.py\",\n",
        "        '18NNIqvS5-GB9xGWJX0wjHeC_RaaoKnWz': \"hourglass.py\",\n",
        "        '1mJS9HFhDoUR1XGxRNQm2e-j4WZQn7Zhl': \"dataset.py\",\n",
        "           }\n",
        "\n",
        "# download all files into the vm\n",
        "for fid, fn in id_to_fn.items():\n",
        "    download_file(fn, fid)\n",
        "\n",
        "# mount the user's google drive into the system\n",
        "from google.colab import drive\n",
        "drive.mount('/content/gdrive')\n",
        "# create folder to write data to\n",
        "os.makedirs('/content/gdrive/My Drive/cis580-2019-hw6', exist_ok=True)"
      ],
      "execution_count": 0,
      "outputs": [
        {
          "output_type": "stream",
          "text": [
            "Drive already mounted at /content/gdrive; to attempt to forcibly remount, call drive.mount(\"/content/gdrive\", force_remount=True).\n"
          ],
          "name": "stdout"
        }
      ]
    },
    {
      "cell_type": "markdown",
      "metadata": {
        "id": "eiXrfCh_6qWz",
        "colab_type": "text"
      },
      "source": [
        "The next code block handles the external library imports."
      ]
    },
    {
      "cell_type": "code",
      "metadata": {
        "id": "I0zwm0396QvZ",
        "colab_type": "code",
        "colab": {}
      },
      "source": [
        "from __future__ import division\n",
        "from __future__ import print_function\n",
        "\n",
        "import torch\n",
        "from torch.utils.data import DataLoader\n",
        "from torchvision import transforms\n",
        "from torchvision.utils import make_grid\n",
        "\n",
        "from hourglass import hg\n",
        "\n",
        "from dataset import Dataset\n",
        "from dataset import RandomFlipLR, RandomRescaleBB, RandomRotation,\\\n",
        "                    CropAndPad, LocsToHeatmaps,\\\n",
        "                    ToTensor, Normalize, Denormalize\n",
        "from utils import TrainOptions, PoseUtils\n",
        "\n",
        "from tqdm import tqdm\n",
        "from PIL import Image\n",
        "import os\n",
        "from time import time\n",
        "import numpy as np\n"
      ],
      "execution_count": 0,
      "outputs": []
    },
    {
      "cell_type": "markdown",
      "metadata": {
        "id": "F3LmtNo861hy",
        "colab_type": "text"
      },
      "source": [
        "Step 1) The Trainer class contains two locations where you must implement the training step and the test step as specified in the accompanying PDF"
      ]
    },
    {
      "cell_type": "code",
      "metadata": {
        "id": "ZnrTrWss615w",
        "colab_type": "code",
        "colab": {}
      },
      "source": [
        "class Trainer(object):\n",
        "\n",
        "    def __init__(self, options):\n",
        "        self.options = options\n",
        "        self.device = torch.device('cuda' if torch.cuda.is_available() else 'cpu')\n",
        "\n",
        "        train_transform_list = []\n",
        "        train_transform_list.append(RandomRescaleBB(0.8, 1.2))\n",
        "        train_transform_list.append(RandomFlipLR())\n",
        "        train_transform_list.append(RandomRotation(degrees=options.degrees))\n",
        "        train_transform_list.append(CropAndPad(out_size=(options.crop_size, options.crop_size)))\n",
        "        train_transform_list.append(LocsToHeatmaps(out_size=(options.heatmap_size, options.heatmap_size)))\n",
        "        train_transform_list.append(ToTensor())\n",
        "        train_transform_list.append(Normalize())\n",
        "        test_transform_list = [CropAndPad(out_size=(options.crop_size, options.crop_size))]\n",
        "        test_transform_list.append(LocsToHeatmaps(out_size=(options.heatmap_size, options.heatmap_size)))\n",
        "        test_transform_list.append(ToTensor())\n",
        "        test_transform_list.append(Normalize())\n",
        "        self.train_ds = Dataset(is_train=True, transform=transforms.Compose(train_transform_list))\n",
        "        self.test_ds = Dataset(is_train=False, transform=transforms.Compose(test_transform_list))\n",
        "\n",
        "        self.model = hg(num_stacks=options.num_stacks, num_blocks=options.num_blocks, num_classes=options.num_classes).to(self.device)\n",
        "        # define loss function and optimizer\n",
        "        self.heatmap_loss = torch.nn.MSELoss().to(self.device) # for Global loss\n",
        "        self.optimizer = torch.optim.RMSprop(self.model.parameters(),\n",
        "                                             lr = options.lr)\n",
        "\n",
        "\n",
        "        self.pose_utils = PoseUtils(detection_thresh=options.detection_thresh, dist_thresh=options.dist_thresh)\n",
        "\n",
        "        self.train_data_loader = DataLoader(self.train_ds, batch_size=options.batch_size,\n",
        "                                            num_workers=options.num_workers,\n",
        "                                            pin_memory=True,\n",
        "                                            shuffle=True)\n",
        "        self.test_data_loader = DataLoader(self.test_ds, batch_size=options.test_batch_size,\n",
        "                                           num_workers=options.num_workers,\n",
        "                                           pin_memory=True,\n",
        "                                           shuffle=True)\n",
        "\n",
        "        self.summary_iters = []\n",
        "        self.losses = []\n",
        "        self.pcks = []\n",
        "\n",
        "    def train(self):\n",
        "        self.total_step_count = 0\n",
        "        start_time = time()\n",
        "        for epoch in range(1,self.options.num_epochs+1):\n",
        "            elapsed_time = time() - start_time\n",
        "            seconds_per_epoch = elapsed_time / epoch\n",
        "            remaining_time = (self.options.num_epochs - epoch) * seconds_per_epoch\n",
        "\n",
        "            print(\"Epoch %d/%d - Elapsed Time %f - Remaining Time %f\" %\n",
        "                    (epoch, self.options.num_epochs,\n",
        "                        elapsed_time, remaining_time))\n",
        "\n",
        "            for step, batch in enumerate(self.train_data_loader):\n",
        "                self.model.train()\n",
        "                batch = {k: v.to(self.device) if isinstance(v, torch.Tensor) else v for k,v in batch.items()}\n",
        "                \"\"\"\n",
        "                ADD YOUR CODE FOR THE TRAINING STEP HERE\n",
        "                You have to name the output of your neural network pred_heatmap_list\n",
        "                This list contains the output heatmaps for each stack of the Stacked Hourglass model\n",
        "                Since we are using only 1 stack in this homework, pred_heatmap_list will contain only 1 tensor\n",
        "                \"\"\"\n",
        "                \n",
        "                self.optimizer.zero_grad()\n",
        "                pred_heatmap_list= self.model(batch['image'])\n",
        "                pred_heatmap_list =torch.stack(pred_heatmap_list)\n",
        "                loss = self.heatmap_loss(pred_heatmap_list,batch['keypoint_heatmaps'])\n",
        "                loss.backward()\n",
        "                self.optimizer.step()\n",
        "                \n",
        "                self.total_step_count += 1\n",
        "                if self.total_step_count % self.options.summary_steps == 0:\n",
        "                    self.save_summaries(batch, pred_heatmap_list[-1].detach(), loss.detach(), mode='train')\n",
        "                if self.total_step_count % self.options.test_steps == 0:\n",
        "                    self.model.eval()\n",
        "                    batch = next(iter(self.test_data_loader))\n",
        "                    batch = {k: v.to(self.device) if isinstance(v, torch.Tensor) else v for k,v in batch.items()}\n",
        "                    \"\"\"\n",
        "                    ADD YOUR CODE FOR THE TEST STEP HERE\n",
        "                    What you have to do is to perform a forward pass and record the loss and the output\n",
        "                    \"\"\"\n",
        "                    with torch.no_grad():\n",
        "                        pred_heatmap_list = self.model(batch['image']) #output\n",
        "                        loss = self.heatmap_loss(pred_heatmap_list[0], batch['keypoint_heatmaps']) #loss\n",
        "                         \n",
        "                        self.save_summaries(batch, pred_heatmap_list[-1].detach(), loss.detach(), mode='test')\n",
        "                    #added detach\n",
        "#                     pred_heatmap_list= self.model(batch['image'])\n",
        "#                     pred_heatmap_list =torch.stack(pred_heatmap_list)\n",
        "#                     loss = self.heatmap_loss(pred_heatmap_list,batch['keypoint_heatmaps'])\n",
        "                    \n",
        "\n",
        "        checkpoint = {'model': self.model.state_dict()}\n",
        "        torch.save(checkpoint, '/content/gdrive/My Drive/cis580-2019-hw6/model_checkpoint.pt')\n",
        "\n",
        "    def save_summaries(self, batch, pred_heatmaps, loss, mode='train'):\n",
        "        gt_heatmaps = batch['keypoint_heatmaps'].to(self.device)\n",
        "        pck = self.pose_utils.pck(gt_heatmaps, pred_heatmaps)\n",
        "\n",
        "        batch = Denormalize()(batch)\n",
        "        images = batch['image']\n",
        "\n",
        "        gt_image_keypoints, pred_image_keypoints = self.pose_utils.draw_keypoints_with_labels(images, gt_heatmaps, pred_heatmaps)\n",
        "\n",
        "        gt_image_keypoints_grid = make_grid(gt_image_keypoints, pad_value=1, nrow=3)\n",
        "        pred_image_keypoints_grid = make_grid(pred_image_keypoints, pad_value=1, nrow=3)\n",
        "\n",
        "        pred_heatmaps_grid = make_grid(pred_heatmaps[0,:,:,:].unsqueeze(0).transpose(0,1), pad_value=1, nrow=5)\n",
        "        pred_heatmaps_grid[pred_heatmaps_grid > 1] = 1\n",
        "        pred_heatmaps_grid[pred_heatmaps_grid < 0] = 0\n",
        "\n",
        "        self.losses.append(loss)\n",
        "        self.pcks.append(pck)\n",
        "        self.summary_iters.append(self.total_step_count)\n",
        "\n",
        "        folder = '/content/gdrive/My Drive/cis580-2019-hw6/logs/%d' % self.total_step_count\n",
        "        os.makedirs(folder, exist_ok=True)\n",
        "\n",
        "        gt_ikg = Image.fromarray((gt_image_keypoints_grid.cpu().detach().numpy().transpose(1,2,0) * 255.).astype(np.uint8))\n",
        "        pred_ikg = Image.fromarray((pred_image_keypoints_grid.cpu().detach().numpy().transpose(1,2,0) * 255.).astype(np.uint8))\n",
        "        pred_hg = Image.fromarray((pred_heatmaps_grid.cpu().detach().numpy().transpose(1,2,0) * 255.).astype(np.uint8))\n",
        "\n",
        "        gt_ikg.save(os.path.join(folder, mode + '_gt_image_keypoints.jpg'))\n",
        "        pred_ikg.save(os.path.join(folder, mode + '_pred_image_keypoints.jpg'))\n",
        "        pred_hg.save(os.path.join(folder, mode + '_pred_heatmaps.jpg'))"
      ],
      "execution_count": 0,
      "outputs": []
    },
    {
      "cell_type": "markdown",
      "metadata": {
        "id": "M0sXNP_J7nK2",
        "colab_type": "text"
      },
      "source": [
        "The next block will start the training process. Be sure to run the above block first every time you want to test changes to the code."
      ]
    },
    {
      "cell_type": "code",
      "metadata": {
        "id": "RfaIBVQ370I3",
        "colab_type": "code",
        "outputId": "3409737e-42d9-4354-9427-bd2315a07602",
        "colab": {
          "base_uri": "https://localhost:8080/",
          "height": 7127
        }
      },
      "source": [
        "options = TrainOptions().parse_args([\"--name=gascan\",\n",
        "                                     \"--summary_steps=200\",\n",
        "                                     \"--num_epochs=400\",\n",
        "                                     \"--test_steps=1000\"])\n",
        "trainer = Trainer(options)\n",
        "trainer.train()"
      ],
      "execution_count": 0,
      "outputs": [
        {
          "output_type": "stream",
          "text": [
            "Epoch 1/400 - Elapsed Time 0.000005 - Remaining Time 0.001903\n",
            "Epoch 2/400 - Elapsed Time 6.229370 - Remaining Time 1239.644701\n",
            "Epoch 3/400 - Elapsed Time 12.311328 - Remaining Time 1629.199063\n",
            "Epoch 4/400 - Elapsed Time 18.440043 - Remaining Time 1825.564231\n",
            "Epoch 5/400 - Elapsed Time 24.551385 - Remaining Time 1939.559447\n",
            "Epoch 6/400 - Elapsed Time 30.598503 - Remaining Time 2009.301704\n",
            "Epoch 7/400 - Elapsed Time 36.579540 - Remaining Time 2053.679863\n",
            "Epoch 8/400 - Elapsed Time 42.539933 - Remaining Time 2084.456715\n",
            "Epoch 9/400 - Elapsed Time 48.609487 - Remaining Time 2111.812139\n",
            "Epoch 10/400 - Elapsed Time 54.460735 - Remaining Time 2123.968659\n",
            "Epoch 11/400 - Elapsed Time 60.020612 - Remaining Time 2122.547106\n",
            "Epoch 12/400 - Elapsed Time 66.851857 - Remaining Time 2161.543367\n",
            "Epoch 13/400 - Elapsed Time 72.641822 - Remaining Time 2162.491173\n",
            "Epoch 14/400 - Elapsed Time 78.533226 - Remaining Time 2165.273225\n",
            "Epoch 15/400 - Elapsed Time 84.257445 - Remaining Time 2162.607745\n",
            "Epoch 16/400 - Elapsed Time 90.006751 - Remaining Time 2160.162014\n",
            "Epoch 17/400 - Elapsed Time 96.009101 - Remaining Time 2163.028562\n",
            "Epoch 18/400 - Elapsed Time 102.165079 - Remaining Time 2168.170002\n",
            "Epoch 19/400 - Elapsed Time 108.280071 - Remaining Time 2171.300372\n",
            "Epoch 20/400 - Elapsed Time 114.359322 - Remaining Time 2172.827110\n",
            "Epoch 21/400 - Elapsed Time 120.192394 - Remaining Time 2169.186535\n",
            "Epoch 22/400 - Elapsed Time 126.157772 - Remaining Time 2167.619894\n",
            "Epoch 23/400 - Elapsed Time 133.218148 - Remaining Time 2183.619201\n",
            "Epoch 24/400 - Elapsed Time 139.118703 - Remaining Time 2179.526349\n",
            "Epoch 25/400 - Elapsed Time 144.849787 - Remaining Time 2172.746805\n",
            "Epoch 26/400 - Elapsed Time 150.826891 - Remaining Time 2169.586816\n",
            "Epoch 27/400 - Elapsed Time 156.827543 - Remaining Time 2166.543465\n",
            "Epoch 28/400 - Elapsed Time 162.951301 - Remaining Time 2164.924426\n",
            "Epoch 29/400 - Elapsed Time 168.797091 - Remaining Time 2159.438653\n",
            "Epoch 30/400 - Elapsed Time 174.770354 - Remaining Time 2155.501030\n",
            "Epoch 31/400 - Elapsed Time 180.944745 - Remaining Time 2153.826153\n",
            "Epoch 32/400 - Elapsed Time 187.039964 - Remaining Time 2150.959588\n",
            "Epoch 33/400 - Elapsed Time 194.027540 - Remaining Time 2157.821432\n",
            "Epoch 34/400 - Elapsed Time 199.934820 - Remaining Time 2152.239530\n",
            "Epoch 35/400 - Elapsed Time 205.728326 - Remaining Time 2145.452541\n",
            "Epoch 36/400 - Elapsed Time 211.546489 - Remaining Time 2138.970058\n",
            "Epoch 37/400 - Elapsed Time 217.390207 - Remaining Time 2132.774194\n",
            "Epoch 38/400 - Elapsed Time 223.382156 - Remaining Time 2128.008963\n",
            "Epoch 39/400 - Elapsed Time 229.258497 - Remaining Time 2122.110699\n",
            "Epoch 40/400 - Elapsed Time 235.064960 - Remaining Time 2115.584640\n",
            "Epoch 41/400 - Elapsed Time 240.809900 - Remaining Time 2108.554978\n",
            "Epoch 42/400 - Elapsed Time 246.689945 - Remaining Time 2102.738105\n",
            "Epoch 43/400 - Elapsed Time 253.100414 - Remaining Time 2101.322042\n",
            "Epoch 44/400 - Elapsed Time 260.718874 - Remaining Time 2109.452710\n",
            "Epoch 45/400 - Elapsed Time 266.900563 - Remaining Time 2105.548890\n",
            "Epoch 46/400 - Elapsed Time 273.058856 - Remaining Time 2101.365975\n",
            "Epoch 47/400 - Elapsed Time 278.976876 - Remaining Time 2095.294413\n",
            "Epoch 48/400 - Elapsed Time 284.850575 - Remaining Time 2088.904216\n",
            "Epoch 49/400 - Elapsed Time 290.792164 - Remaining Time 2083.021420\n",
            "Epoch 50/400 - Elapsed Time 296.765214 - Remaining Time 2077.356496\n",
            "Epoch 51/400 - Elapsed Time 302.899996 - Remaining Time 2072.786247\n",
            "Epoch 52/400 - Elapsed Time 308.945846 - Remaining Time 2067.560659\n",
            "Epoch 53/400 - Elapsed Time 314.936852 - Remaining Time 2061.945051\n",
            "Epoch 54/400 - Elapsed Time 325.169770 - Remaining Time 2083.495196\n",
            "Epoch 55/400 - Elapsed Time 331.065106 - Remaining Time 2076.681122\n",
            "Epoch 56/400 - Elapsed Time 337.118053 - Remaining Time 2070.868043\n",
            "Epoch 57/400 - Elapsed Time 343.526855 - Remaining Time 2067.187914\n",
            "Epoch 58/400 - Elapsed Time 349.401841 - Remaining Time 2060.266030\n",
            "Epoch 59/400 - Elapsed Time 355.226079 - Remaining Time 2053.086320\n",
            "Epoch 60/400 - Elapsed Time 360.970447 - Remaining Time 2045.499200\n",
            "Epoch 61/400 - Elapsed Time 366.766316 - Remaining Time 2038.258707\n",
            "Epoch 62/400 - Elapsed Time 372.765220 - Remaining Time 2032.171682\n",
            "Epoch 63/400 - Elapsed Time 378.593984 - Remaining Time 2025.177345\n",
            "Epoch 64/400 - Elapsed Time 384.712848 - Remaining Time 2019.742453\n",
            "Epoch 65/400 - Elapsed Time 392.007018 - Remaining Time 2020.343861\n",
            "Epoch 66/400 - Elapsed Time 397.822833 - Remaining Time 2013.224638\n",
            "Epoch 67/400 - Elapsed Time 403.950736 - Remaining Time 2007.695447\n",
            "Epoch 68/400 - Elapsed Time 410.078466 - Remaining Time 2002.147805\n",
            "Epoch 69/400 - Elapsed Time 416.513879 - Remaining Time 1998.059334\n",
            "Epoch 70/400 - Elapsed Time 422.949960 - Remaining Time 1993.906955\n",
            "Epoch 71/400 - Elapsed Time 429.182687 - Remaining Time 1988.747944\n",
            "Epoch 72/400 - Elapsed Time 435.183921 - Remaining Time 1982.504528\n",
            "Epoch 73/400 - Elapsed Time 441.136463 - Remaining Time 1976.049635\n",
            "Epoch 74/400 - Elapsed Time 446.988102 - Remaining Time 1969.163802\n",
            "Epoch 75/400 - Elapsed Time 454.130275 - Remaining Time 1967.897860\n",
            "Epoch 76/400 - Elapsed Time 459.864574 - Remaining Time 1960.475288\n",
            "Epoch 77/400 - Elapsed Time 465.976795 - Remaining Time 1954.681881\n",
            "Epoch 78/400 - Elapsed Time 471.854833 - Remaining Time 1947.913543\n",
            "Epoch 79/400 - Elapsed Time 477.949068 - Remaining Time 1942.046212\n",
            "Epoch 80/400 - Elapsed Time 483.741492 - Remaining Time 1934.965969\n",
            "Epoch 81/400 - Elapsed Time 489.718083 - Remaining Time 1928.642821\n",
            "Epoch 82/400 - Elapsed Time 495.658053 - Remaining Time 1922.186110\n",
            "Epoch 83/400 - Elapsed Time 502.145133 - Remaining Time 1917.831413\n",
            "Epoch 84/400 - Elapsed Time 508.178576 - Remaining Time 1911.719404\n",
            "Epoch 85/400 - Elapsed Time 513.878425 - Remaining Time 1904.372988\n",
            "Epoch 86/400 - Elapsed Time 521.007856 - Remaining Time 1902.284497\n",
            "Epoch 87/400 - Elapsed Time 526.859727 - Remaining Time 1895.483847\n",
            "Epoch 88/400 - Elapsed Time 532.732012 - Remaining Time 1888.777133\n",
            "Epoch 89/400 - Elapsed Time 538.524710 - Remaining Time 1881.811066\n",
            "Epoch 90/400 - Elapsed Time 544.714924 - Remaining Time 1876.240292\n",
            "Epoch 91/400 - Elapsed Time 550.907185 - Remaining Time 1870.662860\n",
            "Epoch 92/400 - Elapsed Time 557.445107 - Remaining Time 1866.229270\n",
            "Epoch 93/400 - Elapsed Time 563.513433 - Remaining Time 1860.200256\n",
            "Epoch 94/400 - Elapsed Time 569.815083 - Remaining Time 1854.929950\n",
            "Epoch 95/400 - Elapsed Time 575.877140 - Remaining Time 1848.868712\n",
            "Epoch 96/400 - Elapsed Time 583.263363 - Remaining Time 1847.000650\n",
            "Epoch 97/400 - Elapsed Time 589.545555 - Remaining Time 1841.570137\n",
            "Epoch 98/400 - Elapsed Time 595.585577 - Remaining Time 1835.375962\n",
            "Epoch 99/400 - Elapsed Time 601.536149 - Remaining Time 1828.912939\n",
            "Epoch 100/400 - Elapsed Time 607.428511 - Remaining Time 1822.285534\n",
            "Epoch 101/400 - Elapsed Time 613.063637 - Remaining Time 1814.911162\n",
            "Epoch 102/400 - Elapsed Time 618.808087 - Remaining Time 1807.890294\n",
            "Epoch 103/400 - Elapsed Time 624.571751 - Remaining Time 1800.949612\n",
            "Epoch 104/400 - Elapsed Time 630.387192 - Remaining Time 1794.178930\n",
            "Epoch 105/400 - Elapsed Time 636.163468 - Remaining Time 1787.316411\n",
            "Epoch 106/400 - Elapsed Time 642.091881 - Remaining Time 1780.896349\n",
            "Epoch 107/400 - Elapsed Time 652.297591 - Remaining Time 1786.198078\n",
            "Epoch 108/400 - Elapsed Time 658.135025 - Remaining Time 1779.402105\n",
            "Epoch 109/400 - Elapsed Time 664.437687 - Remaining Time 1773.865753\n",
            "Epoch 110/400 - Elapsed Time 670.300768 - Remaining Time 1767.156571\n",
            "Epoch 111/400 - Elapsed Time 675.960197 - Remaining Time 1759.932404\n",
            "Epoch 112/400 - Elapsed Time 681.856847 - Remaining Time 1753.346178\n",
            "Epoch 113/400 - Elapsed Time 687.723614 - Remaining Time 1746.696260\n",
            "Epoch 114/400 - Elapsed Time 693.597005 - Remaining Time 1740.076696\n",
            "Epoch 115/400 - Elapsed Time 699.480152 - Remaining Time 1733.494289\n",
            "Epoch 116/400 - Elapsed Time 705.346236 - Remaining Time 1726.882165\n",
            "Epoch 117/400 - Elapsed Time 712.377464 - Remaining Time 1723.101046\n",
            "Epoch 118/400 - Elapsed Time 718.404202 - Remaining Time 1716.864279\n",
            "Epoch 119/400 - Elapsed Time 724.365030 - Remaining Time 1710.475406\n",
            "Epoch 120/400 - Elapsed Time 730.782942 - Remaining Time 1705.160198\n",
            "Epoch 121/400 - Elapsed Time 736.745203 - Remaining Time 1698.776130\n",
            "Epoch 122/400 - Elapsed Time 743.142514 - Remaining Time 1693.390318\n",
            "Epoch 123/400 - Elapsed Time 749.286924 - Remaining Time 1687.418520\n",
            "Epoch 124/400 - Elapsed Time 755.117130 - Remaining Time 1680.744580\n",
            "Epoch 125/400 - Elapsed Time 761.012117 - Remaining Time 1674.226658\n",
            "Epoch 126/400 - Elapsed Time 766.929925 - Remaining Time 1667.768250\n",
            "Epoch 127/400 - Elapsed Time 772.710878 - Remaining Time 1661.024170\n",
            "Epoch 128/400 - Elapsed Time 779.969603 - Remaining Time 1657.435407\n",
            "Epoch 129/400 - Elapsed Time 785.659920 - Remaining Time 1650.494870\n",
            "Epoch 130/400 - Elapsed Time 791.437450 - Remaining Time 1643.754704\n",
            "Epoch 131/400 - Elapsed Time 797.078087 - Remaining Time 1636.748133\n",
            "Epoch 132/400 - Elapsed Time 802.876999 - Remaining Time 1630.083604\n",
            "Epoch 133/400 - Elapsed Time 808.887086 - Remaining Time 1623.856030\n",
            "Epoch 134/400 - Elapsed Time 814.766799 - Remaining Time 1617.372900\n",
            "Epoch 135/400 - Elapsed Time 820.722603 - Remaining Time 1611.048072\n",
            "Epoch 136/400 - Elapsed Time 827.156275 - Remaining Time 1605.656299\n",
            "Epoch 137/400 - Elapsed Time 832.937594 - Remaining Time 1598.996987\n",
            "Epoch 138/400 - Elapsed Time 839.730748 - Remaining Time 1594.271420\n",
            "Epoch 139/400 - Elapsed Time 845.350468 - Remaining Time 1587.312750\n",
            "Epoch 140/400 - Elapsed Time 851.068702 - Remaining Time 1580.556161\n",
            "Epoch 141/400 - Elapsed Time 856.887848 - Remaining Time 1573.999664\n",
            "Epoch 142/400 - Elapsed Time 863.153519 - Remaining Time 1568.264845\n",
            "Epoch 143/400 - Elapsed Time 869.119566 - Remaining Time 1561.984115\n",
            "Epoch 144/400 - Elapsed Time 874.925925 - Remaining Time 1555.423867\n",
            "Epoch 145/400 - Elapsed Time 880.833813 - Remaining Time 1549.052568\n",
            "Epoch 146/400 - Elapsed Time 886.807590 - Remaining Time 1542.802246\n",
            "Epoch 147/400 - Elapsed Time 892.607425 - Remaining Time 1536.256317\n",
            "Epoch 148/400 - Elapsed Time 898.543494 - Remaining Time 1529.952436\n",
            "Epoch 149/400 - Elapsed Time 906.282171 - Remaining Time 1526.690100\n",
            "Epoch 150/400 - Elapsed Time 912.370147 - Remaining Time 1520.616912\n",
            "Epoch 151/400 - Elapsed Time 918.108854 - Remaining Time 1513.967580\n",
            "Epoch 152/400 - Elapsed Time 923.897486 - Remaining Time 1507.411688\n",
            "Epoch 153/400 - Elapsed Time 929.720453 - Remaining Time 1500.921254\n",
            "Epoch 154/400 - Elapsed Time 935.501926 - Remaining Time 1494.373206\n",
            "Epoch 155/400 - Elapsed Time 941.536545 - Remaining Time 1488.235184\n",
            "Epoch 156/400 - Elapsed Time 947.496768 - Remaining Time 1481.982125\n",
            "Epoch 157/400 - Elapsed Time 953.263580 - Remaining Time 1475.433439\n",
            "Epoch 158/400 - Elapsed Time 959.354575 - Remaining Time 1469.391185\n",
            "Epoch 159/400 - Elapsed Time 969.265870 - Remaining Time 1469.138834\n",
            "Epoch 160/400 - Elapsed Time 975.216084 - Remaining Time 1462.824126\n",
            "Epoch 161/400 - Elapsed Time 981.375235 - Remaining Time 1456.824107\n",
            "Epoch 162/400 - Elapsed Time 987.700779 - Remaining Time 1451.066576\n",
            "Epoch 163/400 - Elapsed Time 993.433517 - Remaining Time 1444.440144\n",
            "Epoch 164/400 - Elapsed Time 999.233742 - Remaining Time 1437.921727\n",
            "Epoch 165/400 - Elapsed Time 1005.330460 - Remaining Time 1431.834291\n",
            "Epoch 166/400 - Elapsed Time 1011.289199 - Remaining Time 1425.552244\n",
            "Epoch 167/400 - Elapsed Time 1017.006227 - Remaining Time 1418.936832\n",
            "Epoch 168/400 - Elapsed Time 1022.720095 - Remaining Time 1412.327751\n",
            "Epoch 169/400 - Elapsed Time 1028.707119 - Remaining Time 1406.102630\n",
            "Epoch 170/400 - Elapsed Time 1035.840167 - Remaining Time 1401.430815\n",
            "Epoch 171/400 - Elapsed Time 1042.052438 - Remaining Time 1395.497125\n",
            "Epoch 172/400 - Elapsed Time 1048.039639 - Remaining Time 1389.261847\n",
            "Epoch 173/400 - Elapsed Time 1053.780271 - Remaining Time 1382.705905\n",
            "Epoch 174/400 - Elapsed Time 1059.702767 - Remaining Time 1376.395548\n",
            "Epoch 175/400 - Elapsed Time 1065.956849 - Remaining Time 1370.515949\n",
            "Epoch 176/400 - Elapsed Time 1072.216364 - Remaining Time 1364.639009\n",
            "Epoch 177/400 - Elapsed Time 1078.144109 - Remaining Time 1358.339753\n",
            "Epoch 178/400 - Elapsed Time 1083.895065 - Remaining Time 1351.824182\n",
            "Epoch 179/400 - Elapsed Time 1089.794132 - Remaining Time 1345.500017\n",
            "Epoch 180/400 - Elapsed Time 1097.021899 - Remaining Time 1340.804543\n",
            "Epoch 181/400 - Elapsed Time 1102.958542 - Remaining Time 1334.518898\n",
            "Epoch 182/400 - Elapsed Time 1108.745222 - Remaining Time 1328.057464\n",
            "Epoch 183/400 - Elapsed Time 1114.463901 - Remaining Time 1321.522767\n",
            "Epoch 184/400 - Elapsed Time 1120.412657 - Remaining Time 1315.267032\n",
            "Epoch 185/400 - Elapsed Time 1126.343082 - Remaining Time 1308.993311\n",
            "Epoch 186/400 - Elapsed Time 1132.110297 - Remaining Time 1302.535503\n",
            "Epoch 187/400 - Elapsed Time 1138.061983 - Remaining Time 1296.295200\n",
            "Epoch 188/400 - Elapsed Time 1144.326937 - Remaining Time 1290.411227\n",
            "Epoch 189/400 - Elapsed Time 1150.595678 - Remaining Time 1284.527450\n",
            "Epoch 190/400 - Elapsed Time 1156.524996 - Remaining Time 1278.264469\n",
            "Epoch 191/400 - Elapsed Time 1163.694728 - Remaining Time 1273.362294\n",
            "Epoch 192/400 - Elapsed Time 1169.816510 - Remaining Time 1267.301219\n",
            "Epoch 193/400 - Elapsed Time 1175.626946 - Remaining Time 1260.905585\n",
            "Epoch 194/400 - Elapsed Time 1181.498065 - Remaining Time 1254.580420\n",
            "Epoch 195/400 - Elapsed Time 1187.247095 - Remaining Time 1248.131561\n",
            "Epoch 196/400 - Elapsed Time 1192.982777 - Remaining Time 1241.675951\n",
            "Epoch 197/400 - Elapsed Time 1198.718122 - Remaining Time 1235.227303\n",
            "Epoch 198/400 - Elapsed Time 1204.566022 - Remaining Time 1228.900689\n",
            "Epoch 199/400 - Elapsed Time 1210.393636 - Remaining Time 1222.558396\n",
            "Epoch 200/400 - Elapsed Time 1216.233146 - Remaining Time 1216.233146\n",
            "Epoch 201/400 - Elapsed Time 1223.357752 - Remaining Time 1211.185038\n",
            "Epoch 202/400 - Elapsed Time 1229.525223 - Remaining Time 1205.178189\n",
            "Epoch 203/400 - Elapsed Time 1235.400080 - Remaining Time 1198.885792\n",
            "Epoch 204/400 - Elapsed Time 1241.405132 - Remaining Time 1192.722578\n",
            "Epoch 205/400 - Elapsed Time 1247.103722 - Remaining Time 1186.269394\n",
            "Epoch 206/400 - Elapsed Time 1252.988060 - Remaining Time 1179.998464\n",
            "Epoch 207/400 - Elapsed Time 1259.097963 - Remaining Time 1173.941579\n",
            "Epoch 208/400 - Elapsed Time 1265.264005 - Remaining Time 1167.936005\n",
            "Epoch 209/400 - Elapsed Time 1271.152087 - Remaining Time 1161.674874\n",
            "Epoch 210/400 - Elapsed Time 1276.937537 - Remaining Time 1155.324438\n",
            "Epoch 211/400 - Elapsed Time 1282.956694 - Remaining Time 1149.188697\n",
            "Epoch 212/400 - Elapsed Time 1292.762392 - Remaining Time 1146.411932\n",
            "Epoch 213/400 - Elapsed Time 1298.666456 - Remaining Time 1140.143790\n",
            "Epoch 214/400 - Elapsed Time 1304.847649 - Remaining Time 1134.119920\n",
            "Epoch 215/400 - Elapsed Time 1311.112884 - Remaining Time 1128.166900\n",
            "Epoch 216/400 - Elapsed Time 1317.026711 - Remaining Time 1121.911643\n",
            "Epoch 217/400 - Elapsed Time 1322.755352 - Remaining Time 1115.503361\n",
            "Epoch 218/400 - Elapsed Time 1328.819236 - Remaining Time 1109.381197\n",
            "Epoch 219/400 - Elapsed Time 1334.700710 - Remaining Time 1103.108806\n",
            "Epoch 220/400 - Elapsed Time 1340.490333 - Remaining Time 1096.764818\n",
            "Epoch 221/400 - Elapsed Time 1346.258232 - Remaining Time 1090.408251\n",
            "Epoch 222/400 - Elapsed Time 1352.595134 - Remaining Time 1084.513215\n",
            "Epoch 223/400 - Elapsed Time 1359.895875 - Remaining Time 1079.379237\n",
            "Epoch 224/400 - Elapsed Time 1365.825847 - Remaining Time 1073.148880\n",
            "Epoch 225/400 - Elapsed Time 1371.608287 - Remaining Time 1066.806445\n",
            "Epoch 226/400 - Elapsed Time 1377.572814 - Remaining Time 1060.609158\n",
            "Epoch 227/400 - Elapsed Time 1383.685556 - Remaining Time 1054.526878\n",
            "Epoch 228/400 - Elapsed Time 1389.934482 - Remaining Time 1048.547065\n",
            "Epoch 229/400 - Elapsed Time 1395.899641 - Remaining Time 1042.353007\n",
            "Epoch 230/400 - Elapsed Time 1401.726084 - Remaining Time 1036.058410\n",
            "Epoch 231/400 - Elapsed Time 1407.649094 - Remaining Time 1029.838515\n",
            "Epoch 232/400 - Elapsed Time 1413.645710 - Remaining Time 1023.674479\n",
            "Epoch 233/400 - Elapsed Time 1420.631074 - Remaining Time 1018.220555\n",
            "Epoch 234/400 - Elapsed Time 1426.449102 - Remaining Time 1011.925431\n",
            "Epoch 235/400 - Elapsed Time 1432.346551 - Remaining Time 1005.690132\n",
            "Epoch 236/400 - Elapsed Time 1438.282442 - Remaining Time 999.484409\n",
            "Epoch 237/400 - Elapsed Time 1444.037962 - Remaining Time 993.156910\n",
            "Epoch 238/400 - Elapsed Time 1449.960619 - Remaining Time 986.947985\n",
            "Epoch 239/400 - Elapsed Time 1455.952604 - Remaining Time 980.788156\n",
            "Epoch 240/400 - Elapsed Time 1462.113129 - Remaining Time 974.742086\n",
            "Epoch 241/400 - Elapsed Time 1468.447748 - Remaining Time 968.809925\n",
            "Epoch 242/400 - Elapsed Time 1474.952583 - Remaining Time 962.985570\n",
            "Epoch 243/400 - Elapsed Time 1480.659453 - Remaining Time 956.640058\n",
            "Epoch 244/400 - Elapsed Time 1487.480459 - Remaining Time 951.012097\n",
            "Epoch 245/400 - Elapsed Time 1493.207663 - Remaining Time 944.682399\n",
            "Epoch 246/400 - Elapsed Time 1499.093496 - Remaining Time 938.456904\n",
            "Epoch 247/400 - Elapsed Time 1504.978952 - Remaining Time 932.233926\n",
            "Epoch 248/400 - Elapsed Time 1510.887090 - Remaining Time 926.027571\n",
            "Epoch 249/400 - Elapsed Time 1516.814532 - Remaining Time 919.835318\n",
            "Epoch 250/400 - Elapsed Time 1522.588768 - Remaining Time 913.553261\n",
            "Epoch 251/400 - Elapsed Time 1528.558237 - Remaining Time 907.391144\n",
            "Epoch 252/400 - Elapsed Time 1534.308906 - Remaining Time 901.102056\n",
            "Epoch 253/400 - Elapsed Time 1540.033233 - Remaining Time 894.801918\n",
            "Epoch 254/400 - Elapsed Time 1547.336986 - Remaining Time 889.414173\n",
            "Epoch 255/400 - Elapsed Time 1553.536504 - Remaining Time 883.383502\n",
            "Epoch 256/400 - Elapsed Time 1559.276772 - Remaining Time 877.093184\n",
            "Epoch 257/400 - Elapsed Time 1565.158839 - Remaining Time 870.886047\n",
            "Epoch 258/400 - Elapsed Time 1571.012059 - Remaining Time 864.665552\n",
            "Epoch 259/400 - Elapsed Time 1576.900257 - Remaining Time 858.466935\n",
            "Epoch 260/400 - Elapsed Time 1582.796696 - Remaining Time 852.275144\n",
            "Epoch 261/400 - Elapsed Time 1588.665463 - Remaining Time 846.070879\n",
            "Epoch 262/400 - Elapsed Time 1594.328429 - Remaining Time 839.760776\n",
            "Epoch 263/400 - Elapsed Time 1600.251879 - Remaining Time 833.591283\n",
            "Epoch 264/400 - Elapsed Time 1606.137846 - Remaining Time 827.404345\n",
            "Epoch 265/400 - Elapsed Time 1616.573294 - Remaining Time 823.537338\n",
            "Epoch 266/400 - Elapsed Time 1622.469605 - Remaining Time 817.334313\n",
            "Epoch 267/400 - Elapsed Time 1628.948081 - Remaining Time 811.423576\n",
            "Epoch 268/400 - Elapsed Time 1635.157186 - Remaining Time 805.375927\n",
            "Epoch 269/400 - Elapsed Time 1640.924236 - Remaining Time 799.111803\n",
            "Epoch 270/400 - Elapsed Time 1646.727265 - Remaining Time 792.868683\n",
            "Epoch 271/400 - Elapsed Time 1652.537073 - Remaining Time 786.632038\n",
            "Epoch 272/400 - Elapsed Time 1658.648011 - Remaining Time 780.540240\n",
            "Epoch 273/400 - Elapsed Time 1664.978030 - Remaining Time 774.550219\n",
            "Epoch 274/400 - Elapsed Time 1670.799478 - Remaining Time 768.323847\n",
            "Epoch 275/400 - Elapsed Time 1677.782928 - Remaining Time 762.628604\n",
            "Epoch 276/400 - Elapsed Time 1683.487678 - Remaining Time 756.349537\n",
            "Epoch 277/400 - Elapsed Time 1689.248751 - Remaining Time 750.099626\n",
            "Epoch 278/400 - Elapsed Time 1695.016833 - Remaining Time 743.856308\n",
            "Epoch 279/400 - Elapsed Time 1700.871809 - Remaining Time 737.654082\n",
            "Epoch 280/400 - Elapsed Time 1707.108141 - Remaining Time 731.617775\n",
            "Epoch 281/400 - Elapsed Time 1713.168382 - Remaining Time 725.505471\n",
            "Epoch 282/400 - Elapsed Time 1718.912161 - Remaining Time 719.261117\n",
            "Epoch 283/400 - Elapsed Time 1724.878365 - Remaining Time 713.112257\n",
            "Epoch 284/400 - Elapsed Time 1730.743774 - Remaining Time 706.923513\n",
            "Epoch 285/400 - Elapsed Time 1736.736033 - Remaining Time 700.788224\n",
            "Epoch 286/400 - Elapsed Time 1743.986562 - Remaining Time 695.155483\n",
            "Epoch 287/400 - Elapsed Time 1749.769232 - Remaining Time 688.933530\n",
            "Epoch 288/400 - Elapsed Time 1755.555953 - Remaining Time 682.716204\n",
            "Epoch 289/400 - Elapsed Time 1761.323985 - Remaining Time 676.494679\n",
            "Epoch 290/400 - Elapsed Time 1767.050933 - Remaining Time 670.260699\n",
            "Epoch 291/400 - Elapsed Time 1772.702926 - Remaining Time 664.002127\n",
            "Epoch 292/400 - Elapsed Time 1778.916644 - Remaining Time 657.955471\n",
            "Epoch 293/400 - Elapsed Time 1784.911962 - Remaining Time 651.827918\n",
            "Epoch 294/400 - Elapsed Time 1791.138189 - Remaining Time 645.784517\n",
            "Epoch 295/400 - Elapsed Time 1797.035771 - Remaining Time 639.622902\n",
            "Epoch 296/400 - Elapsed Time 1803.871826 - Remaining Time 633.792804\n",
            "Epoch 297/400 - Elapsed Time 1809.793595 - Remaining Time 627.638856\n",
            "Epoch 298/400 - Elapsed Time 1815.587509 - Remaining Time 621.442705\n",
            "Epoch 299/400 - Elapsed Time 1821.454873 - Remaining Time 615.274054\n",
            "Epoch 300/400 - Elapsed Time 1827.200832 - Remaining Time 609.066944\n",
            "Epoch 301/400 - Elapsed Time 1833.080537 - Remaining Time 602.906887\n",
            "Epoch 302/400 - Elapsed Time 1838.804977 - Remaining Time 596.698304\n",
            "Epoch 303/400 - Elapsed Time 1844.517544 - Remaining Time 590.489115\n",
            "Epoch 304/400 - Elapsed Time 1850.299778 - Remaining Time 584.305193\n",
            "Epoch 305/400 - Elapsed Time 1855.942168 - Remaining Time 578.080347\n",
            "Epoch 306/400 - Elapsed Time 1861.792585 - Remaining Time 571.923212\n",
            "Epoch 307/400 - Elapsed Time 1869.372833 - Remaining Time 566.292096\n",
            "Epoch 308/400 - Elapsed Time 1875.455207 - Remaining Time 560.200906\n",
            "Epoch 309/400 - Elapsed Time 1881.317199 - Remaining Time 554.044871\n",
            "Epoch 310/400 - Elapsed Time 1887.334627 - Remaining Time 547.935860\n",
            "Epoch 311/400 - Elapsed Time 1893.158329 - Remaining Time 541.771998\n",
            "Epoch 312/400 - Elapsed Time 1898.853231 - Remaining Time 535.573988\n",
            "Epoch 313/400 - Elapsed Time 1904.893840 - Remaining Time 529.475284\n",
            "Epoch 314/400 - Elapsed Time 1910.569154 - Remaining Time 523.276902\n",
            "Epoch 315/400 - Elapsed Time 1916.595642 - Remaining Time 517.176602\n",
            "Epoch 316/400 - Elapsed Time 1922.405767 - Remaining Time 511.019254\n",
            "Epoch 317/400 - Elapsed Time 1932.419990 - Remaining Time 505.964855\n",
            "Epoch 318/400 - Elapsed Time 1938.289055 - Remaining Time 499.810385\n",
            "Epoch 319/400 - Elapsed Time 1944.323626 - Remaining Time 493.699730\n",
            "Epoch 320/400 - Elapsed Time 1950.775211 - Remaining Time 487.693803\n",
            "Epoch 321/400 - Elapsed Time 1956.765703 - Remaining Time 481.571622\n",
            "Epoch 322/400 - Elapsed Time 1962.657905 - Remaining Time 475.426449\n",
            "Epoch 323/400 - Elapsed Time 1968.876648 - Remaining Time 469.360687\n",
            "Epoch 324/400 - Elapsed Time 1975.363006 - Remaining Time 463.356755\n",
            "Epoch 325/400 - Elapsed Time 1981.325686 - Remaining Time 457.229005\n",
            "Epoch 326/400 - Elapsed Time 1987.238300 - Remaining Time 451.090902\n",
            "Epoch 327/400 - Elapsed Time 1993.045083 - Remaining Time 444.930554\n",
            "Epoch 328/400 - Elapsed Time 1999.935688 - Remaining Time 439.010273\n",
            "Epoch 329/400 - Elapsed Time 2005.737322 - Remaining Time 432.849088\n",
            "Epoch 330/400 - Elapsed Time 2011.757231 - Remaining Time 426.736382\n",
            "Epoch 331/400 - Elapsed Time 2017.809494 - Remaining Time 420.630982\n",
            "Epoch 332/400 - Elapsed Time 2023.664614 - Remaining Time 414.485523\n",
            "Epoch 333/400 - Elapsed Time 2030.145776 - Remaining Time 408.467769\n",
            "Epoch 334/400 - Elapsed Time 2036.335953 - Remaining Time 402.389739\n",
            "Epoch 335/400 - Elapsed Time 2042.231235 - Remaining Time 396.253822\n",
            "Epoch 336/400 - Elapsed Time 2047.900717 - Remaining Time 390.076327\n",
            "Epoch 337/400 - Elapsed Time 2053.829565 - Remaining Time 383.950334\n",
            "Epoch 338/400 - Elapsed Time 2060.836918 - Remaining Time 378.023340\n",
            "Epoch 339/400 - Elapsed Time 2066.654126 - Remaining Time 371.875816\n",
            "Epoch 340/400 - Elapsed Time 2072.327305 - Remaining Time 365.704819\n",
            "Epoch 341/400 - Elapsed Time 2078.085302 - Remaining Time 359.551416\n",
            "Epoch 342/400 - Elapsed Time 2084.625132 - Remaining Time 353.532917\n",
            "Epoch 343/400 - Elapsed Time 2090.703418 - Remaining Time 347.434679\n",
            "Epoch 344/400 - Elapsed Time 2096.569774 - Remaining Time 341.302056\n",
            "Epoch 345/400 - Elapsed Time 2102.433741 - Remaining Time 335.170596\n",
            "Epoch 346/400 - Elapsed Time 2108.472464 - Remaining Time 329.067957\n",
            "Epoch 347/400 - Elapsed Time 2114.852447 - Remaining Time 323.017809\n",
            "Epoch 348/400 - Elapsed Time 2120.555729 - Remaining Time 316.864649\n",
            "Epoch 349/400 - Elapsed Time 2127.648902 - Remaining Time 310.917175\n",
            "Epoch 350/400 - Elapsed Time 2133.557787 - Remaining Time 304.793970\n",
            "Epoch 351/400 - Elapsed Time 2139.387549 - Remaining Time 298.660940\n",
            "Epoch 352/400 - Elapsed Time 2145.199471 - Remaining Time 292.527201\n",
            "Epoch 353/400 - Elapsed Time 2150.994037 - Remaining Time 286.392974\n",
            "Epoch 354/400 - Elapsed Time 2156.899657 - Remaining Time 280.275097\n",
            "Epoch 355/400 - Elapsed Time 2162.742171 - Remaining Time 274.150416\n",
            "Epoch 356/400 - Elapsed Time 2168.672023 - Remaining Time 268.038115\n",
            "Epoch 357/400 - Elapsed Time 2174.610452 - Remaining Time 261.927870\n",
            "Epoch 358/400 - Elapsed Time 2180.388738 - Remaining Time 255.799796\n",
            "Epoch 359/400 - Elapsed Time 2187.061081 - Remaining Time 249.775778\n",
            "Epoch 360/400 - Elapsed Time 2193.509134 - Remaining Time 243.723237\n",
            "Epoch 361/400 - Elapsed Time 2199.441546 - Remaining Time 237.612799\n",
            "Epoch 362/400 - Elapsed Time 2205.255940 - Remaining Time 231.490955\n",
            "Epoch 363/400 - Elapsed Time 2211.165137 - Remaining Time 225.380468\n",
            "Epoch 364/400 - Elapsed Time 2217.117338 - Remaining Time 219.275341\n",
            "Epoch 365/400 - Elapsed Time 2222.966212 - Remaining Time 213.161144\n",
            "Epoch 366/400 - Elapsed Time 2228.925633 - Remaining Time 207.058665\n",
            "Epoch 367/400 - Elapsed Time 2234.826908 - Remaining Time 200.951738\n",
            "Epoch 368/400 - Elapsed Time 2240.929811 - Remaining Time 194.863462\n",
            "Epoch 369/400 - Elapsed Time 2246.901891 - Remaining Time 188.764116\n",
            "Epoch 370/400 - Elapsed Time 2257.361071 - Remaining Time 183.029276\n",
            "Epoch 371/400 - Elapsed Time 2263.124115 - Remaining Time 176.901885\n",
            "Epoch 372/400 - Elapsed Time 2269.146339 - Remaining Time 170.795961\n",
            "Epoch 373/400 - Elapsed Time 2275.612437 - Remaining Time 164.722616\n",
            "Epoch 374/400 - Elapsed Time 2282.282787 - Remaining Time 158.661370\n",
            "Epoch 375/400 - Elapsed Time 2288.499938 - Remaining Time 152.566663\n",
            "Epoch 376/400 - Elapsed Time 2294.232215 - Remaining Time 146.440354\n",
            "Epoch 377/400 - Elapsed Time 2300.110473 - Remaining Time 140.325042\n",
            "Epoch 378/400 - Elapsed Time 2306.005061 - Remaining Time 134.211935\n",
            "Epoch 379/400 - Elapsed Time 2311.990268 - Remaining Time 128.105002\n",
            "Epoch 380/400 - Elapsed Time 2318.797268 - Remaining Time 122.041961\n",
            "Epoch 381/400 - Elapsed Time 2324.770786 - Remaining Time 115.933451\n",
            "Epoch 382/400 - Elapsed Time 2330.823724 - Remaining Time 109.829390\n",
            "Epoch 383/400 - Elapsed Time 2336.812882 - Remaining Time 103.722765\n",
            "Epoch 384/400 - Elapsed Time 2342.858127 - Remaining Time 97.619089\n",
            "Epoch 385/400 - Elapsed Time 2348.938673 - Remaining Time 91.517091\n",
            "Epoch 386/400 - Elapsed Time 2355.448552 - Remaining Time 85.430776\n",
            "Epoch 387/400 - Elapsed Time 2361.453266 - Remaining Time 79.325304\n",
            "Epoch 388/400 - Elapsed Time 2367.245568 - Remaining Time 73.213780\n",
            "Epoch 389/400 - Elapsed Time 2373.257704 - Remaining Time 67.110115\n",
            "Epoch 390/400 - Elapsed Time 2379.223399 - Remaining Time 61.005728\n",
            "Epoch 391/400 - Elapsed Time 2386.105959 - Remaining Time 54.923155\n",
            "Epoch 392/400 - Elapsed Time 2392.267723 - Remaining Time 48.821790\n",
            "Epoch 393/400 - Elapsed Time 2398.157625 - Remaining Time 42.715276\n",
            "Epoch 394/400 - Elapsed Time 2403.977580 - Remaining Time 36.608796\n",
            "Epoch 395/400 - Elapsed Time 2409.725535 - Remaining Time 30.502855\n",
            "Epoch 396/400 - Elapsed Time 2415.456526 - Remaining Time 24.398551\n",
            "Epoch 397/400 - Elapsed Time 2421.208490 - Remaining Time 18.296286\n",
            "Epoch 398/400 - Elapsed Time 2427.107590 - Remaining Time 12.196521\n",
            "Epoch 399/400 - Elapsed Time 2433.578497 - Remaining Time 6.099194\n",
            "Epoch 400/400 - Elapsed Time 2439.803974 - Remaining Time 0.000000\n"
          ],
          "name": "stdout"
        }
      ]
    },
    {
      "cell_type": "markdown",
      "metadata": {
        "id": "8I0j0V0V7LMq",
        "colab_type": "text"
      },
      "source": [
        "The next block will run prediction on the test set and save the output detections"
      ]
    },
    {
      "cell_type": "markdown",
      "metadata": {
        "id": "ihzPW3qEO1rD",
        "colab_type": "text"
      },
      "source": [
        ""
      ]
    },
    {
      "cell_type": "code",
      "metadata": {
        "id": "k8LFkCqk7aKS",
        "colab_type": "code",
        "outputId": "045d5fa4-cff4-4680-cf9a-94846586227b",
        "colab": {
          "base_uri": "https://localhost:8080/",
          "height": 34
        }
      },
      "source": [
        "from __future__ import division\n",
        "from __future__ import print_function\n",
        "\n",
        "import numpy as np\n",
        "import torch\n",
        "from torch.utils.data import DataLoader\n",
        "from torchvision import transforms\n",
        "\n",
        "from hourglass import hg\n",
        "options = TrainOptions().parse_args([\"--name=gascan\",\n",
        "                                     \"--summary_steps=200\",\n",
        "                                     \"--num_epochs=400\",\n",
        "                                     \"--test_steps=1000\"])\n",
        "obj = Trainer(options)\n",
        "from dataset import Dataset\n",
        "from dataset import CropAndPad, LocsToHeatmaps, ToTensor, Normalize\n",
        "from tqdm import tqdm\n",
        "\n",
        "device = torch.device('cuda' if torch.cuda.is_available() else 'cpu')\n",
        "model = hg(num_stacks=1, num_blocks=1, num_classes=10).to(device)\n",
        "checkpoint = torch.load('/content/gdrive/My Drive/cis580-2019-hw6/model_checkpoint.pt')\n",
        "model.load_state_dict(checkpoint['model'])\n",
        "transform_list = [CropAndPad(out_size=(256, 256))]\n",
        "transform_list.append(LocsToHeatmaps(out_size=(64,64)))\n",
        "transform_list.append(ToTensor())\n",
        "transform_list.append(Normalize())\n",
        "test_ds = Dataset(is_train=False, transform=transforms.Compose(transform_list))\n",
        "data_loader = DataLoader(test_ds, batch_size=1, pin_memory=True, shuffle=False)\n",
        "predicted_heatmaps = np.zeros((len(test_ds), 10, 64, 64))\n",
        "for i, batch in enumerate(tqdm(data_loader)):\n",
        "    model.eval()\n",
        "    images = batch['image'].to(device)\n",
        "    with torch.no_grad():\n",
        "        pred_heatmap_list = model(images)\n",
        "    pred_heatmaps = pred_heatmap_list[-1]\n",
        "    predicted_heatmaps[i,:,:,:] = pred_heatmaps[0,:,:,:].cpu().numpy()\n",
        "    \n",
        "    gt_heatmaps = batch['keypoint_heatmaps'].to(device)\n",
        "    pck = obj.pose_utils.pck(gt_heatmaps, pred_heatmaps)\n",
        "\n",
        "    batch = Denormalize()(batch)\n",
        "    images = batch['image']\n",
        "\n",
        "    gt_image_keypoints, pred_image_keypoints =obj.pose_utils.draw_keypoints_with_labels(images, gt_heatmaps, pred_heatmaps)\n",
        "\n",
        "    gt_image_keypoints_grid = make_grid(gt_image_keypoints, pad_value=1, nrow=3)\n",
        "    pred_image_keypoints_grid = make_grid(pred_image_keypoints, pad_value=1, nrow=3)\n",
        "\n",
        "    pred_heatmaps_grid = make_grid(pred_heatmaps[0,:,:,:].unsqueeze(0).transpose(0,1), pad_value=1, nrow=5)\n",
        "    pred_heatmaps_grid[pred_heatmaps_grid > 1] = 1\n",
        "    pred_heatmaps_grid[pred_heatmaps_grid < 0] = 0\n",
        "\n",
        "   \n",
        "    folder = '/content/gdrive/My Drive/cis580-2019-hw6/testresuts/%d' % i \n",
        "    os.makedirs(folder, exist_ok=True)\n",
        "    mode = 'test'\n",
        "    gt_ikg = Image.fromarray((gt_image_keypoints_grid.cpu().detach().numpy().transpose(1,2,0) * 255.).astype(np.uint8))\n",
        "    pred_ikg = Image.fromarray((pred_image_keypoints_grid.cpu().detach().numpy().transpose(1,2,0) * 255.).astype(np.uint8))\n",
        "    pred_hg = Image.fromarray((pred_heatmaps_grid.cpu().detach().numpy().transpose(1,2,0) * 255.).astype(np.uint8))\n",
        "\n",
        "    gt_ikg.save(os.path.join(folder, mode + '_gt_image_keypoints.jpg'))\n",
        "    pred_ikg.save(os.path.join(folder, mode + '_pred_image_keypoints.jpg'))\n",
        "    pred_hg.save(os.path.join(folder, mode + '_pred_heatmaps.jpg'))\n",
        "np.save('/content/gdrive/My Drive/cis580-2019-hw6/detections.npy', predicted_heatmaps)\n",
        "np.save('/content/gdrive/My Drive/cis580-2019-hw6/images.npy' , images)\n",
        "\n",
        "\n",
        "\n",
        "\n"
      ],
      "execution_count": 0,
      "outputs": [
        {
          "output_type": "stream",
          "text": [
            "100%|██████████| 27/27 [00:01<00:00, 14.13it/s]\n"
          ],
          "name": "stderr"
        }
      ]
    },
    {
      "cell_type": "markdown",
      "metadata": {
        "id": "TBFkZUfU8GPP",
        "colab_type": "text"
      },
      "source": [
        "Import the external and given functions for step 2"
      ]
    },
    {
      "cell_type": "code",
      "metadata": {
        "id": "55v_Q0du8OR0",
        "colab_type": "code",
        "outputId": "0fce7c34-a6f3-428e-8bbe-4aeeffe38f1d",
        "colab": {
          "base_uri": "https://localhost:8080/",
          "height": 70
        }
      },
      "source": [
        "import numpy as np\n",
        "import torch\n",
        "import torch.nn as nn\n",
        "import cv2\n",
        "import matplotlib\n",
        "matplotlib.use('Agg')\n",
        "import matplotlib.pyplot as plt\n",
        "import os\n",
        "from os.path import join\n",
        "from utils import plot_mesh\n",
        "\n",
        "\"\"\"\n",
        "Convert axis-angle representation to a 3x3 rotation matrix\n",
        "\"\"\"\n",
        "class Rodrigues(torch.autograd.Function):\n",
        "    @staticmethod\n",
        "    def forward(self, inp):\n",
        "        pose = inp.detach().cpu().numpy()\n",
        "        rotm, part_jacob = cv2.Rodrigues(pose)\n",
        "        self.jacob = torch.Tensor(np.transpose(part_jacob)).contiguous()\n",
        "        rotation_matrix = torch.Tensor(rotm.ravel())\n",
        "        return rotation_matrix.view(3,3)\n",
        "\n",
        "    @staticmethod\n",
        "    def backward(self, grad_output):\n",
        "        grad_output = grad_output.view(1,-1)\n",
        "        grad_input = torch.mm(grad_output, self.jacob)\n",
        "        grad_input = grad_input.view(-1)\n",
        "        return grad_input\n",
        "\"\"\"\n",
        "This is the function you should call to convert fom axis-angle to a rotation matrix\n",
        "Example usage:\n",
        "    aa = torch.zeros(3)\n",
        "    R = rodrigues(aa)\n",
        "\"\"\"\n",
        "rodrigues = Rodrigues.apply\n",
        "\n",
        "aa = torch.zeros(3)\n",
        "R = rodrigues(aa)\n",
        "\n",
        "R"
      ],
      "execution_count": 0,
      "outputs": [
        {
          "output_type": "execute_result",
          "data": {
            "text/plain": [
              "tensor([[1., 0., 0.],\n",
              "        [0., 1., 0.],\n",
              "        [0., 0., 1.]])"
            ]
          },
          "metadata": {
            "tags": []
          },
          "execution_count": 113
        }
      ]
    },
    {
      "cell_type": "markdown",
      "metadata": {
        "id": "B0CHkhee8Q9a",
        "colab_type": "text"
      },
      "source": [
        "Step 2) Implement pose_optimization and heatmaps_to_locs as specified by the accompanying PDF"
      ]
    },
    {
      "cell_type": "code",
      "metadata": {
        "id": "6Gbs2Zmn8RGO",
        "colab_type": "code",
        "colab": {}
      },
      "source": [
        "\"\"\"\n",
        "YOU NEED TO IMPLEMENT THIS\n",
        "Input: image, mesh vertices, mesh faces, detected 2d keypoints, keypoint confidences, 3D keypoint coordinates in the canonical position, intrinsic camera matrix\n",
        "Output: R, t\n",
        "\"\"\"\n",
        "def pose_optimization(img, vertices, faces, keypoints_2d, conf, keypoints_3d, K):\n",
        "    # Send variables to GPU\n",
        "    device = keypoints_2d.device\n",
        "    keypoints_3d = keypoints_3d.to(device)\n",
        "    K = K.to(device)\n",
        "    r = torch.rand(3, requires_grad=True, device=device)# rotation in axis-angle representation\n",
        "    t = torch.rand(3 ,requires_grad=True, device=device)\n",
        "    d = conf.sqrt()[:, None]\n",
        "    # 2D keypoints in normalized coordinates\n",
        "    norm_keypoints_2d = torch.matmul(K.inverse(), torch.cat((keypoints_2d, torch.ones(keypoints_2d.shape[0],1, device=device)), dim=-1).t()).t()[:,:-1]\n",
        "    # set up optimizer\n",
        "    optimizer = torch.optim.Adam([r,t], lr=1e-2)\n",
        "    # converge check\n",
        "    converged = False\n",
        "    rel_tol = 1e-5\n",
        "    loss_old = 100\n",
        "    itr= 0 \n",
        "    while not converged:\n",
        "      # convert axis-angle to rotation matrix\n",
        "      R = rodrigues(r)\n",
        "      # 1) Compute projected keypoints based on current estimate of R and t\n",
        "      pt_3d = keypoints_3d.t()\n",
        "      points_3d = torch.mm(R,pt_3d )\n",
        "#       points_3d =  torch.mm(K ,((points_3d.t() + t).t()))\n",
        "      points_3d = points_3d.t() + t \n",
        "      divider = points_3d[:,-1]\n",
        "      divider = divider.view(10,1)\n",
        "#       print(points_3d)\n",
        "      points_2d = torch.div(points_3d,divider)[:,:-1]\n",
        "      proj_keypoints = points_2d\n",
        "#       print(points_2d)\n",
        "      # 2) Compute error (based on distance between projected keypoints and detected keypoints)\n",
        "      conf_matrix = torch.diag(conf)\n",
        "      err = norm_keypoints_2d - points_2d\n",
        "      err = torch.mm(err.t(),torch.sqrt(conf_matrix))\n",
        "#       print(err.shape)\n",
        "      # 3) Update based on error\n",
        "      optimizer.zero_grad()\n",
        "      loss_norm = torch.norm(err, p =2 , dim=0)\n",
        "      loss = torch.mean(loss_norm,0)\n",
        "      \n",
        "      loss.backward()\n",
        "      optimizer.step()\n",
        "      \n",
        "      # 4) Check for convergence\n",
        "      \n",
        "      if abs(loss - loss_old) < rel_tol:\n",
        "          print(loss)\n",
        "          print(itr)\n",
        "          break \n",
        "      loss_old = loss.clone()\n",
        "      itr = itr+1 \n",
        "\n",
        "    R = rodrigues(r)\n",
        "    plt.figure()\n",
        "    pk = torch.matmul(K, torch.cat((proj_keypoints, torch.ones(proj_keypoints.shape[0], 1, device=device)), dim=-1).t()).t()\n",
        "    pk = pk.detach().cpu().numpy()\n",
        "    plt.scatter(pk[:,0], pk[:,1], color='r')\n",
        "    plot_mesh(img, vertices, faces, R.detach().cpu().numpy(), t.detach().cpu().numpy()[:,None], K.detach().cpu().numpy())\n",
        "#     pk = torch.matmul(K, torch.cat((proj_keypoints, torch.ones(proj_keypoints.shape[0], 1, device=device)), dim=-1).t()).t()\n",
        "#     pk = pk.detach().cpu().numpy()\n",
        "#     plt.scatter(pk[:,0], pk[:,1], color='r')\n",
        "    plt.show()\n",
        "    return rodrigues(r)[0].detach(), t.detach()\n",
        "\n",
        "\"\"\"\n",
        "YOU NEED TO IMPLEMENT THIS\n",
        "Convert heatmaps to 2D locations\n",
        "Input: Nx10x64x64 keypoint heatmaps\n",
        "Output: Nx10x3 keypoint locations and detection confidence (magnitude of the highest activation)\n",
        "\"\"\"\n",
        "def heatmaps_to_locs(heatmaps):\n",
        "     # go through each picutre get highest point in the array. appen the indexes it to an list \n",
        "#     locs=[]\n",
        "#     num , chan , img_x, img_y = heatmaps.shape\n",
        "#     for r in range(heatmaps.shape[0]):\n",
        "#       img = heatmaps[r , :, :,:]\n",
        "#       lst = []\n",
        "\n",
        "#       for no in range(10):\n",
        "#         image = img[no,:,:]\n",
        "#         g= np.argmax(image)\n",
        "#         i , j = int(np.floor(g/img_x)), int(g - np.floor(g/img_x)* img_x)\n",
        "#         mag = image[i,j].item()\n",
        "#         lst.append([j,i,mag])\n",
        "#       locs.append(lst)\n",
        "    \n",
        "    num , chan , img_x, img_y = heatmaps.shape\n",
        "    \n",
        "    lst = np.zeros((num,chan,3),dtype=np.float32)\n",
        "    \n",
        "    for no in range(num):\n",
        "      for ch in range(chan):\n",
        "        img = heatmaps[no,ch]\n",
        "        (i,j)= np.unravel_index(img.argmax(), img.shape)\n",
        "        lst[no,ch,:2] =(j,i) \n",
        "        lst[no,ch,2] = img[np.unravel_index(img.argmax(), img.shape)]\n",
        "    \n",
        "    return torch.from_numpy(lst)\n",
        "#     return torch.FloatTensor(locs)\n",
        "   "
      ],
      "execution_count": 0,
      "outputs": []
    },
    {
      "cell_type": "markdown",
      "metadata": {
        "id": "nTS4itAw8gYg",
        "colab_type": "text"
      },
      "source": [
        "The next block will start the pose optimization process. Be sure to run the above block first every time you want to test changes to the code."
      ]
    },
    {
      "cell_type": "code",
      "metadata": {
        "id": "UJEK6bpw8mbM",
        "colab_type": "code",
        "outputId": "d43ca38e-fc6f-4658-eb94-d87d8bd7cfa4",
        "colab": {
          "base_uri": "https://localhost:8080/",
          "height": 1530
        }
      },
      "source": [
        "data = np.load('data/misc_data.npz')\n",
        "K = torch.from_numpy(data['K']).float()\n",
        "S = torch.from_numpy(np.load('data/kpt.npy'))\n",
        "vertices = data['vertices']\n",
        "faces = data['faces']\n",
        "\n",
        "dataset = np.load('data/valid_data.npz')\n",
        "imgnames = dataset['imgname']\n",
        "scales = torch.from_numpy(dataset['scale']).float()[:,None]\n",
        "centers = torch.from_numpy(dataset['center']).float()\n",
        "# detections.npy contains the detections saved after training your model and running predict.py\n",
        "heatmaps = torch.from_numpy(np.load('/content/gdrive/My Drive/cis580-2019-hw6/detections.npy'))\n",
        "\n",
        "keypoint_locs = heatmaps_to_locs(heatmaps)\n",
        "# print(keypoint_locs)\n",
        "# Compute detected 2D keypoint locations in the original image\n",
        "ul_corner = centers - scales * 100\n",
        "keypoint_locs[:,:,:-1] *= scales[:,:,None]*200 / 64\n",
        "keypoint_locs[:,:,:-1] += ul_corner[:,None,:]\n",
        "\n",
        "images = np.load('data/images.npz')\n",
        "\n",
        "os.makedirs('/content/gdrive/My Drive/cis580-2019-hw6/pose_optimization', exist_ok=True)\n",
        "for i in range(len(heatmaps)):\n",
        "    img_name = imgnames[i].decode('utf-8')\n",
        "    print(\"Processing \", img_name)\n",
        "    img = images[img_name]\n",
        "    pose_optimization(img, vertices, faces, keypoint_locs[i,:,:-1], keypoint_locs[i,:,-1], S, K)\n",
        "    plt.savefig('/content/gdrive/My Drive/cis580-2019-hw6/pose_optimization/%s' % img_name, dpi=300)\n",
        "    plt.close('all')"
      ],
      "execution_count": 0,
      "outputs": [
        {
          "output_type": "stream",
          "text": [
            "Processing  train_148.jpg\n",
            "tensor(0.0081, grad_fn=<MeanBackward0>)\n",
            "1049\n"
          ],
          "name": "stdout"
        },
        {
          "output_type": "stream",
          "text": [
            "/usr/local/lib/python3.6/dist-packages/matplotlib/figure.py:98: MatplotlibDeprecationWarning: \n",
            "Adding an axes using the same arguments as a previous axes currently reuses the earlier instance.  In a future version, a new instance will always be created and returned.  Meanwhile, this warning can be suppressed, and the future behavior ensured, by passing a unique label to each axes instance.\n",
            "  \"Adding an axes using the same arguments as a previous axes \"\n"
          ],
          "name": "stderr"
        },
        {
          "output_type": "stream",
          "text": [
            "Processing  train_160.jpg\n",
            "tensor(1.7443, grad_fn=<MeanBackward0>)\n",
            "444\n",
            "Processing  train_80.jpg\n",
            "tensor(0.0055, grad_fn=<MeanBackward0>)\n",
            "249\n",
            "Processing  train_181.jpg\n",
            "tensor(1.0823, grad_fn=<MeanBackward0>)\n",
            "111\n",
            "Processing  train_176.jpg\n",
            "tensor(0.0057, grad_fn=<MeanBackward0>)\n",
            "391\n",
            "Processing  train_2.jpg\n",
            "tensor(0.0250, grad_fn=<MeanBackward0>)\n",
            "328\n",
            "Processing  train_155.jpg\n",
            "tensor(0.0076, grad_fn=<MeanBackward0>)\n",
            "203\n",
            "Processing  train_136.jpg\n",
            "tensor(0.0392, grad_fn=<MeanBackward0>)\n",
            "98\n",
            "Processing  train_4.jpg\n",
            "tensor(0.0519, grad_fn=<MeanBackward0>)\n",
            "227\n",
            "Processing  train_18.jpg\n",
            "tensor(0.0061, grad_fn=<MeanBackward0>)\n",
            "437\n",
            "Processing  train_106.jpg\n",
            "tensor(0.0070, grad_fn=<MeanBackward0>)\n",
            "213\n",
            "Processing  train_90.jpg\n",
            "tensor(0.0060, grad_fn=<MeanBackward0>)\n",
            "335\n",
            "Processing  train_25.jpg\n",
            "tensor(0.0068, grad_fn=<MeanBackward0>)\n",
            "330\n",
            "Processing  train_116.jpg\n",
            "tensor(0.0149, grad_fn=<MeanBackward0>)\n",
            "230\n",
            "Processing  train_190.jpg\n",
            "tensor(0.0120, grad_fn=<MeanBackward0>)\n",
            "263\n",
            "Processing  train_177.jpg\n",
            "tensor(0.0068, grad_fn=<MeanBackward0>)\n",
            "352\n",
            "Processing  train_52.jpg\n",
            "tensor(0.0130, grad_fn=<MeanBackward0>)\n",
            "331\n",
            "Processing  train_191.jpg\n",
            "tensor(0.0058, grad_fn=<MeanBackward0>)\n",
            "277\n",
            "Processing  train_13.jpg\n",
            "tensor(0.0071, grad_fn=<MeanBackward0>)\n",
            "276\n",
            "Processing  train_9.jpg\n",
            "tensor(0.1152, grad_fn=<MeanBackward0>)\n",
            "212\n",
            "Processing  train_81.jpg\n",
            "tensor(0.0082, grad_fn=<MeanBackward0>)\n",
            "297\n",
            "Processing  train_21.jpg\n",
            "tensor(0.8228, grad_fn=<MeanBackward0>)\n",
            "569\n",
            "Processing  train_72.jpg\n",
            "tensor(0.0103, grad_fn=<MeanBackward0>)\n",
            "216\n",
            "Processing  train_144.jpg\n",
            "tensor(0.0110, grad_fn=<MeanBackward0>)\n",
            "504\n",
            "Processing  train_10.jpg\n",
            "tensor(1.0333, grad_fn=<MeanBackward0>)\n",
            "2676\n",
            "Processing  train_12.jpg\n",
            "tensor(0.0066, grad_fn=<MeanBackward0>)\n",
            "453\n",
            "Processing  train_140.jpg\n",
            "tensor(0.0092, grad_fn=<MeanBackward0>)\n",
            "329\n"
          ],
          "name": "stdout"
        }
      ]
    },
    {
      "cell_type": "code",
      "metadata": {
        "id": "_mbCYVoT2yU0",
        "colab_type": "code",
        "outputId": "540547e1-ba4b-4738-a1c2-b425342c2511",
        "colab": {
          "base_uri": "https://localhost:8080/",
          "height": 34
        }
      },
      "source": [
        "heatmaps = torch.from_numpy(np.load('/content/gdrive/My Drive/cis580-2019-hw6/detections.npy'))\n",
        "\n",
        "keypoint_locs = heatmaps_to_locs(heatmaps)\n",
        "\n",
        "n, g, o , w = heatmaps.shape\n",
        "\n",
        "g"
      ],
      "execution_count": 0,
      "outputs": [
        {
          "output_type": "execute_result",
          "data": {
            "text/plain": [
              "10"
            ]
          },
          "metadata": {
            "tags": []
          },
          "execution_count": 169
        }
      ]
    },
    {
      "cell_type": "code",
      "metadata": {
        "id": "Nzetvtdq2tP-",
        "colab_type": "code",
        "colab": {}
      },
      "source": [
        ""
      ],
      "execution_count": 0,
      "outputs": []
    },
    {
      "cell_type": "code",
      "metadata": {
        "id": "6Ph6S9HUUfnu",
        "colab_type": "code",
        "outputId": "982534a8-1e9d-45b8-eef9-05cf41433c58",
        "colab": {
          "base_uri": "https://localhost:8080/",
          "height": 34
        }
      },
      "source": [
        "###general testing\n",
        "predi = np.load('/content/gdrive/My Drive/cis580-2019-hw6/detections.npy')\n",
        "\n",
        "import matplotlib.pyplot as plt \n",
        "\n",
        "pred = predi[0]\n",
        "pred = np.swapaxes(pred,-1,-3)\n",
        "pred = np.swapaxes(pred,-2,-3)\n",
        "\n",
        "pred = pred[:,: ,:-10]\n",
        "pred =pred[:,:]\n",
        "# plt.imshow(pred)\n",
        "\n",
        "pred.shape\n"
      ],
      "execution_count": 0,
      "outputs": [
        {
          "output_type": "execute_result",
          "data": {
            "text/plain": [
              "(64, 64, 0)"
            ]
          },
          "metadata": {
            "tags": []
          },
          "execution_count": 22
        }
      ]
    },
    {
      "cell_type": "code",
      "metadata": {
        "id": "67Ic896nt7Yo",
        "colab_type": "code",
        "colab": {}
      },
      "source": [
        "\n"
      ],
      "execution_count": 0,
      "outputs": []
    },
    {
      "cell_type": "code",
      "metadata": {
        "id": "_ACotU5qgXrI",
        "colab_type": "code",
        "outputId": "53f82d74-6225-482f-db7b-36329bb661a1",
        "colab": {
          "base_uri": "https://localhost:8080/",
          "height": 70
        }
      },
      "source": [
        "import numpy as np\n",
        "import random \n",
        "c= torch.rand(2,3)\n",
        "print(c)\n",
        "\n",
        "c= torch.norm(c, p=2, dim=0)\n",
        "c"
      ],
      "execution_count": 0,
      "outputs": [
        {
          "output_type": "stream",
          "text": [
            "tensor([[0.8881, 0.5673, 0.1739],\n",
            "        [0.3339, 0.8784, 0.1600]])\n"
          ],
          "name": "stdout"
        },
        {
          "output_type": "execute_result",
          "data": {
            "text/plain": [
              "tensor([0.9488, 1.0457, 0.2363])"
            ]
          },
          "metadata": {
            "tags": []
          },
          "execution_count": 90
        }
      ]
    },
    {
      "cell_type": "code",
      "metadata": {
        "id": "axdCypaXnrRz",
        "colab_type": "code",
        "outputId": "5efd4364-9dc7-471a-8bc5-d5af7407bccf",
        "colab": {
          "base_uri": "https://localhost:8080/",
          "height": 70
        }
      },
      "source": [
        "torch.rand(3,2)"
      ],
      "execution_count": 0,
      "outputs": [
        {
          "output_type": "execute_result",
          "data": {
            "text/plain": [
              "tensor([[0.1618, 0.1925],\n",
              "        [0.0056, 0.1076],\n",
              "        [0.2787, 0.1460]])"
            ]
          },
          "metadata": {
            "tags": []
          },
          "execution_count": 126
        }
      ]
    },
    {
      "cell_type": "code",
      "metadata": {
        "id": "n5BccWH-qdEv",
        "colab_type": "code",
        "outputId": "43a04230-60df-4df2-9413-40fe1f714a7a",
        "colab": {
          "base_uri": "https://localhost:8080/",
          "height": 34
        }
      },
      "source": [
        ""
      ],
      "execution_count": 0,
      "outputs": [
        {
          "output_type": "execute_result",
          "data": {
            "text/plain": [
              "(7.0, 13.0)"
            ]
          },
          "metadata": {
            "tags": []
          },
          "execution_count": 37
        }
      ]
    },
    {
      "cell_type": "code",
      "metadata": {
        "id": "tmGUEeNNhgJ0",
        "colab_type": "code",
        "outputId": "76e8fb05-6ed8-44c8-9c04-d78f7aacecc5",
        "colab": {
          "base_uri": "https://localhost:8080/",
          "height": 34
        }
      },
      "source": [
        ""
      ],
      "execution_count": 0,
      "outputs": [
        {
          "output_type": "execute_result",
          "data": {
            "text/plain": [
              "(1, 3, 256, 256)"
            ]
          },
          "metadata": {
            "tags": []
          },
          "execution_count": 44
        }
      ]
    },
    {
      "cell_type": "code",
      "metadata": {
        "id": "u_K__MwXmK0p",
        "colab_type": "code",
        "outputId": "6785bebd-e65f-4027-918a-15bc17c9cceb",
        "colab": {
          "base_uri": "https://localhost:8080/",
          "height": 203
        }
      },
      "source": [
        "options = TrainOptions().parse_args([\"--name=gascan\",\n",
        "                                     \"--summary_steps=200\",\n",
        "                                     \"--num_epochs=400\",\n",
        "                                     \"--test_steps=1000\"])\n",
        "train_transform_list = []\n",
        "train_transform_list.append(RandomRescaleBB(0.8, 1.2))\n",
        "train_transform_list.append(RandomFlipLR())\n",
        "train_transform_list.append(RandomRotation(degrees=options.degrees))\n",
        "train_transform_list.append(CropAndPad(out_size=(options.crop_size, options.crop_size)))\n",
        "train_transform_list.append(LocsToHeatmaps(out_size=(options.heatmap_size, options.heatmap_size)))\n",
        "train_transform_list.append(ToTensor())\n",
        "train_transform_list.append(Normalize())\n",
        "test_transform_list = [CropAndPad(out_size=(options.crop_size, options.crop_size))]\n",
        "test_transform_list.append(LocsToHeatmaps(out_size=(options.heatmap_size, options.heatmap_size)))\n",
        "test_transform_list.append(ToTensor())\n",
        "test_transform_list.append(Normalize())\n",
        "\n",
        "test_ds = Dataset(is_train=False, transform=transforms.Compose(test_transform_list))\n",
        "\n",
        "test = DataLoader(test_ds, batch_size=options.test_batch_size,\n",
        "                                           num_workers=options.num_workers,\n",
        "                                           pin_memory=True,\n",
        "                                           shuffle=True)\n",
        "\n",
        "is_train.shape"
      ],
      "execution_count": 0,
      "outputs": [
        {
          "output_type": "error",
          "ename": "NameError",
          "evalue": "ignored",
          "traceback": [
            "\u001b[0;31m---------------------------------------------------------------------------\u001b[0m",
            "\u001b[0;31mNameError\u001b[0m                                 Traceback (most recent call last)",
            "\u001b[0;32m<ipython-input-40-bb15e9cabd76>\u001b[0m in \u001b[0;36m<module>\u001b[0;34m()\u001b[0m\n\u001b[1;32m     23\u001b[0m                                            shuffle=True)\n\u001b[1;32m     24\u001b[0m \u001b[0;34m\u001b[0m\u001b[0m\n\u001b[0;32m---> 25\u001b[0;31m \u001b[0mis_train\u001b[0m\u001b[0;34m.\u001b[0m\u001b[0mshape\u001b[0m\u001b[0;34m\u001b[0m\u001b[0;34m\u001b[0m\u001b[0m\n\u001b[0m",
            "\u001b[0;31mNameError\u001b[0m: name 'is_train' is not defined"
          ]
        }
      ]
    }
  ]
}
